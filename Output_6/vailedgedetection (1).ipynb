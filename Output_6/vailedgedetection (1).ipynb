{
  "nbformat": 4,
  "nbformat_minor": 0,
  "metadata": {
    "colab": {
      "name": "vailedgedetection.ipynb",
      "provenance": [],
      "collapsed_sections": []
    },
    "kernelspec": {
      "display_name": "Python 3",
      "language": "python",
      "name": "python3"
    },
    "language_info": {
      "codemirror_mode": {
        "name": "ipython",
        "version": 3
      },
      "file_extension": ".py",
      "mimetype": "text/x-python",
      "name": "python",
      "nbconvert_exporter": "python",
      "pygments_lexer": "ipython3",
      "version": "3.7.3"
    }
  },
  "cells": [
    {
      "cell_type": "markdown",
      "metadata": {
        "id": "vtpFgQASJOYW"
      },
      "source": [
        "# Import the relevant libraries"
      ]
    },
    {
      "cell_type": "code",
      "metadata": {
        "id": "GFLeCphfJOYc"
      },
      "source": [
        "import numpy as np\n",
        "import pandas as pd\n",
        "import matplotlib.pyplot as plt\n",
        "import matplotlib.image as mpimg\n",
        "import random\n",
        "from copy import deepcopy"
      ],
      "execution_count": 96,
      "outputs": []
    },
    {
      "cell_type": "markdown",
      "metadata": {
        "id": "5Mz1WIvfJOYp"
      },
      "source": [
        "# Load the image into a numpy array"
      ]
    },
    {
      "cell_type": "code",
      "metadata": {
        "id": "NJKv5KbKJOYt"
      },
      "source": [
        "path_to_jpg_file = \"/content/sample_data/6.jpeg\"\n",
        "img = mpimg.imread(path_to_jpg_file)"
      ],
      "execution_count": 97,
      "outputs": []
    },
    {
      "cell_type": "code",
      "metadata": {
        "id": "eE1-5KCcJOY2",
        "colab": {
          "base_uri": "https://localhost:8080/"
        },
        "outputId": "0d1edcce-8fc4-4da2-ed80-371162b9d613"
      },
      "source": [
        "img.shape"
      ],
      "execution_count": 98,
      "outputs": [
        {
          "output_type": "execute_result",
          "data": {
            "text/plain": [
              "(1000, 1600, 3)"
            ]
          },
          "metadata": {},
          "execution_count": 98
        }
      ]
    },
    {
      "cell_type": "markdown",
      "metadata": {
        "id": "jJ-NYdrGJOZB"
      },
      "source": [
        "# Display the image"
      ]
    },
    {
      "cell_type": "code",
      "metadata": {
        "id": "l68KibIWJOZD",
        "colab": {
          "base_uri": "https://localhost:8080/",
          "height": 240
        },
        "outputId": "5e014777-21c6-44d4-94fb-54924b7cd3ba"
      },
      "source": [
        "plt.imshow(img)\n",
        "plt.axis('off')\n",
        "plt.show()"
      ],
      "execution_count": 99,
      "outputs": [
        {
          "output_type": "display_data",
          "data": {
            "text/plain": [
              "<Figure size 432x288 with 1 Axes>"
            ],
            "image/png": "[encoded data removed]"
          },
          "metadata": {
            "needs_background": "light"
          }
        }
      ]
    },
    {
      "cell_type": "markdown",
      "metadata": {
        "id": "7fGpcjH9JOZI"
      },
      "source": [
        "# Reshape the image"
      ]
    },
    {
      "cell_type": "code",
      "metadata": {
        "id": "qujYc_YCJOZM"
      },
      "source": [
        "pixels = img.reshape((-1,3))"
      ],
      "execution_count": 100,
      "outputs": []
    },
    {
      "cell_type": "code",
      "metadata": {
        "id": "Fnb7pRgqJOZU",
        "colab": {
          "base_uri": "https://localhost:8080/"
        },
        "outputId": "69872581-56eb-4b00-9404-0e996a0ba670"
      },
      "source": [
        "pixels.shape"
      ],
      "execution_count": 101,
      "outputs": [
        {
          "output_type": "execute_result",
          "data": {
            "text/plain": [
              "(1600000, 3)"
            ]
          },
          "metadata": {},
          "execution_count": 101
        }
      ]
    },
    {
      "cell_type": "code",
      "metadata": {
        "id": "sjulyjyVJOZb",
        "colab": {
          "base_uri": "https://localhost:8080/"
        },
        "outputId": "06d34cbc-a8d0-46a1-99a4-e2109d15cc38"
      },
      "source": [
        "pixels[0]"
      ],
      "execution_count": 102,
      "outputs": [
        {
          "output_type": "execute_result",
          "data": {
            "text/plain": [
              "array([0, 0, 0], dtype=uint8)"
            ]
          },
          "metadata": {},
          "execution_count": 102
        }
      ]
    },
    {
      "cell_type": "markdown",
      "metadata": {
        "id": "iCrBgW_AJOZl"
      },
      "source": [
        "# Implement agglomerative clustering from scratch"
      ]
    },
    {
      "cell_type": "code",
      "metadata": {
        "id": "AgSMN7luJOZn"
      },
      "source": [
        "def euclidean_distance(point1, point2):\n",
        "    \"\"\"\n",
        "    Computes euclidean distance of point1 and point2.\n",
        "    \n",
        "    point1 and point2 are lists.\n",
        "    \"\"\"\n",
        "    return np.linalg.norm(np.array(point1) - np.array(point2))\n",
        "\n",
        "def clusters_distance(cluster1, cluster2):\n",
        "    \"\"\"\n",
        "    Computes distance between two clusters.\n",
        "    \n",
        "    cluster1 and cluster2 are lists of lists of points\n",
        "    \"\"\"\n",
        "    return max([euclidean_distance(point1, point2) for point1 in cluster1 for point2 in cluster2])\n",
        "  \n",
        "def clusters_distance_2(cluster1, cluster2):\n",
        "    \"\"\"\n",
        "    Computes distance between two centroids of the two clusters\n",
        "    \n",
        "    cluster1 and cluster2 are lists of lists of points\n",
        "    \"\"\"\n",
        "    cluster1_center = np.average(cluster1, axis=0)\n",
        "    cluster2_center = np.average(cluster2, axis=0)\n",
        "    return euclidean_distance(cluster1_center, cluster2_center)\n",
        "\n",
        "\n",
        "class AgglomerativeClustering:\n",
        "    \n",
        "    def __init__(self, k=2, initial_k=25):\n",
        "        self.k = k\n",
        "        self.initial_k = initial_k\n",
        "        \n",
        "    def initial_clusters(self, points):\n",
        "        \"\"\"\n",
        "        partition pixels into self.initial_k groups based on color similarity\n",
        "        \"\"\"\n",
        "        groups = {}\n",
        "        d = int(256 / (self.initial_k))\n",
        "        for i in range(self.initial_k):\n",
        "            j = i * d\n",
        "            groups[(j, j, j)] = []\n",
        "        for i, p in enumerate(points):\n",
        "            if i%100000 == 0:\n",
        "                print('processing pixel:', i)\n",
        "            go = min(groups.keys(), key=lambda c: euclidean_distance(p, c))  \n",
        "            groups[go].append(p)\n",
        "        return [g for g in groups.values() if len(g) > 0]\n",
        "        \n",
        "    def fit(self, points):\n",
        "\n",
        "        # initially, assign each point to a distinct cluster\n",
        "        print('Computing initial clusters ...')\n",
        "        self.clusters_list = self.initial_clusters(points)\n",
        "        print('number of initial clusters:', len(self.clusters_list))\n",
        "        print('merging clusters ...')\n",
        "\n",
        "        while len(self.clusters_list) > self.k:\n",
        "\n",
        "            # Find the closest (most similar) pair of clusters\n",
        "            cluster1, cluster2 = min([(c1, c2) for i, c1 in enumerate(self.clusters_list) for c2 in self.clusters_list[:i]],\n",
        "                 key=lambda c: clusters_distance_2(c[0], c[1]))\n",
        "\n",
        "            # Remove the two clusters from the clusters list\n",
        "            self.clusters_list = [c for c in self.clusters_list if c != cluster1 and c != cluster2]\n",
        "\n",
        "            # Merge the two clusters\n",
        "            merged_cluster = cluster1 + cluster2\n",
        "\n",
        "            # Add the merged cluster to the clusters list\n",
        "            self.clusters_list.append(merged_cluster)\n",
        "\n",
        "            print('number of clusters:', len(self.clusters_list))\n",
        "        \n",
        "        print('assigning cluster num to each point ...')\n",
        "        self.cluster = {}\n",
        "        for cl_num, cl in enumerate(self.clusters_list):\n",
        "            for point in cl:\n",
        "                self.cluster[tuple(point)] = cl_num\n",
        "                \n",
        "        print('Computing cluster centers ...')\n",
        "        self.centers = {}\n",
        "        for cl_num, cl in enumerate(self.clusters_list):\n",
        "            self.centers[cl_num] = np.average(cl, axis=0)\n",
        "                    \n",
        "\n",
        "\n",
        "    def predict_cluster(self, point):\n",
        "        \"\"\"\n",
        "        Find cluster number of point\n",
        "        \"\"\"\n",
        "        # assuming point belongs to clusters that were computed by fit functions\n",
        "        return self.cluster[tuple(point)]\n",
        "\n",
        "    def predict_center(self, point):\n",
        "        \"\"\"\n",
        "        Find center of the cluster that point belongs to\n",
        "        \"\"\"\n",
        "        point_cluster_num = self.predict_cluster(point)\n",
        "        center = self.centers[point_cluster_num]\n",
        "        return center"
      ],
      "execution_count": 103,
      "outputs": []
    },
    {
      "cell_type": "markdown",
      "metadata": {
        "id": "br7dzzaWJOZs"
      },
      "source": [
        "# Clustering for k=2"
      ]
    },
    {
      "cell_type": "code",
      "metadata": {
        "id": "7f11vGCCJOZt",
        "colab": {
          "base_uri": "https://localhost:8080/"
        },
        "outputId": "6dd02150-fd50-4b8a-e867-f0e58b35acca"
      },
      "source": [
        "n_clusters = 4\n",
        "agglo = AgglomerativeClustering(k=n_clusters, initial_k=25)\n",
        "agglo.fit(pixels)"
      ],
      "execution_count": 104,
      "outputs": [
        {
          "output_type": "stream",
          "name": "stdout",
          "text": [
            "Computing initial clusters ...\n",
            "processing pixel: 0\n",
            "processing pixel: 100000\n",
            "processing pixel: 200000\n",
            "processing pixel: 300000\n",
            "processing pixel: 400000\n",
            "processing pixel: 500000\n",
            "processing pixel: 600000\n",
            "processing pixel: 700000\n",
            "processing pixel: 800000\n",
            "processing pixel: 900000\n",
            "processing pixel: 1000000\n",
            "processing pixel: 1100000\n",
            "processing pixel: 1200000\n",
            "processing pixel: 1300000\n",
            "processing pixel: 1400000\n",
            "processing pixel: 1500000\n",
            "number of initial clusters: 25\n",
            "merging clusters ...\n",
            "number of clusters: 24\n",
            "number of clusters: 23\n",
            "number of clusters: 22\n",
            "number of clusters: 21\n",
            "number of clusters: 20\n",
            "number of clusters: 19\n",
            "number of clusters: 18\n",
            "number of clusters: 17\n",
            "number of clusters: 16\n",
            "number of clusters: 15\n",
            "number of clusters: 14\n",
            "number of clusters: 13\n",
            "number of clusters: 12\n",
            "number of clusters: 11\n",
            "number of clusters: 10\n",
            "number of clusters: 9\n",
            "number of clusters: 8\n",
            "number of clusters: 7\n",
            "number of clusters: 6\n",
            "number of clusters: 5\n",
            "number of clusters: 4\n",
            "assigning cluster num to each point ...\n",
            "Computing cluster centers ...\n"
          ]
        }
      ]
    },
    {
      "cell_type": "markdown",
      "metadata": {
        "id": "0EiPbtR3JOZ2"
      },
      "source": [
        "### Create the clustered image and plot it"
      ]
    },
    {
      "cell_type": "code",
      "metadata": {
        "id": "rtWgo3afJOZ4"
      },
      "source": [
        "new_img = [[agglo.predict_center(list(pixel)) for pixel in row] for row in img]\n",
        "new_img = np.array(new_img, np.uint8)"
      ],
      "execution_count": 105,
      "outputs": []
    },
    {
      "cell_type": "code",
      "source": [
        "import cv2\n",
        "import numpy as np\n",
        "from matplotlib import pyplot as plt\n",
        "gray = cv2.cvtColor(new_img, cv2.COLOR_BGR2GRAY)\n",
        "blur = cv2.blur(gray,(71,71))\n",
        "\n",
        "diff = cv2.subtract(blur, gray)\n",
        "#ret, th = cv2.threshold(diff, 13, 255, cv2.THRESH_BINARY_INV)\n",
        "#cv2.imshow(\"threshold\", th)\n",
        "#cv2.waitKey(0)\n",
        "plt.imshow(diff)\n",
        "plt.show()\n",
        "\n"
      ],
      "metadata": {
        "colab": {
          "base_uri": "https://localhost:8080/",
          "height": 261
        },
        "id": "FQlO0Hc3Pf7a",
        "outputId": "f4b2c934-99ea-4dfd-e606-6f4a733594d7"
      },
      "execution_count": 106,
      "outputs": [
        {
          "output_type": "display_data",
          "data": {
            "text/plain": [
              "<Figure size 432x288 with 1 Axes>"
            ],
            "image/png": "[encoded data removed]"
          },
          "metadata": {
            "needs_background": "light"
          }
        }
      ]
    },
    {
      "cell_type": "code",
      "metadata": {
        "id": "Av2MTKwGJOZ8",
        "colab": {
          "base_uri": "https://localhost:8080/",
          "height": 285
        },
        "outputId": "7c59c7aa-10ba-4406-a4c9-7d737ef478d3"
      },
      "source": [
        "plt.figure(figsize=(15,15))\n",
        "\n",
        "plt.subplot(1,2,1)\n",
        "plt.imshow(diff)\n",
        "plt.axis('off')\n",
        "plt.title('Original image')\n",
        "\n",
        "plt.subplot(1,2,2)\n",
        "plt.imshow(diff)\n",
        "plt.axis('off')\n",
        "plt.title(f'Segmented image with k={n_clusters}')\n",
        "\n",
        "plt.show()"
      ],
      "execution_count": 107,
      "outputs": [
        {
          "output_type": "display_data",
          "data": {
            "text/plain": [
              "<Figure size 1080x1080 with 2 Axes>"
            ],
            "image/png": "[encoded data removed]"
          },
          "metadata": {
            "needs_background": "light"
          }
        }
      ]
    },
    {
      "cell_type": "markdown",
      "metadata": {
        "id": "tfjHUXp1MpDQ"
      },
      "source": [
        "Detect possible number of deffective spots on vail"
      ]
    },
    {
      "cell_type": "code",
      "source": [
        "import cv2\n",
        "gray = diff\n",
        "\n",
        "## threshold\n",
        "th, threshed = cv2.threshold(gray, 100, 255,cv2.THRESH_BINARY_INV|cv2.THRESH_OTSU)\n",
        "\n",
        "## findcontours\n",
        "cnts = cv2.findContours(threshed, cv2.RETR_LIST, cv2.CHAIN_APPROX_SIMPLE)[-2]\n",
        "\n",
        "\n",
        "## filter by area\n",
        "s1= 3\n",
        "s2 = 20\n",
        "xcnts = []\n",
        "for cnt in cnts:\n",
        "    if s1<cv2.contourArea(cnt) <s2:\n",
        "        xcnts.append(cnt)\n",
        "\n",
        "print(\"possiable number of diffective spots in vail are: {}\".format(len(xcnts)))\n",
        "#Dots number: 23"
      ],
      "metadata": {
        "colab": {
          "base_uri": "https://localhost:8080/"
        },
        "id": "N4HVKHZLdHda",
        "outputId": "0774100f-de76-4da4-c5ad-d85543272f7e"
      },
      "execution_count": 108,
      "outputs": [
        {
          "output_type": "stream",
          "name": "stdout",
          "text": [
            "possiable number of diffective spots in vail are: 11\n"
          ]
        }
      ]
    },
    {
      "cell_type": "markdown",
      "source": [
        "find the defective area by infill and outline "
      ],
      "metadata": {
        "id": "2BdOsFy6jShL"
      }
    },
    {
      "cell_type": "code",
      "source": [
        "import numpy as np\n",
        "import cv2\n",
        "from matplotlib import pyplot as plt\n",
        "import imutils\n",
        "#path = ''\n",
        "#path_output = ''\n",
        "\n",
        "img_bgr = diff\n",
        "plt.imshow(img_bgr)\n",
        "\n",
        "# bgr to rgb\n",
        "img_rgb = cv2.cvtColor(img_bgr, cv2.COLOR_BGR2RGB)\n",
        "plt.imshow(img_rgb)\n",
        "\n",
        "# Converting to grayscale\n",
        "img_just_gray = cv2.cvtColor(img_rgb, cv2.COLOR_BGR2GRAY)\n",
        "\n",
        "# Displaying the grayscale image\n",
        "plt.imshow(img_just_gray, cmap='gray')\n",
        "\n",
        "# Gaussian Blur\n",
        "ksize_w = 13\n",
        "ksize_h = 13\n",
        "\n",
        "img_first_gb = cv2.GaussianBlur(img_rgb, (ksize_w,ksize_h), 0, 0, cv2.BORDER_REPLICATE);\n",
        "plt.imshow(img_first_gb)\n",
        "\n",
        "# Dilate the image\n",
        "\n",
        "dilated_img = cv2.dilate(img_first_gb, np.ones((11,11), np.uint8))\n",
        "plt.imshow(dilated_img)\n",
        "\n",
        "# Converting to grayscale\n",
        "img_gray_operated = cv2.cvtColor(dilated_img, cv2.COLOR_BGR2GRAY)\n",
        "\n",
        "# Displaying the grayscale image\n",
        "plt.imshow(img_gray_operated, cmap='gray')\n",
        "\n",
        "# closing:\n",
        "kernel_closing = np.ones((7,7),np.uint8)\n",
        "img_closing = cv2.morphologyEx(img_gray_operated, cv2.MORPH_CLOSE, kernel_closing)\n",
        "plt.imshow(img_closing, cmap='gray')\n",
        "\n",
        "# dilation:\n",
        "# add pixels to the boundaries of objects in an image\n",
        "kernel_dilation = np.ones((3,3),np.uint8)\n",
        "img_dilation2 = cv2.dilate(img_closing, kernel_dilation, iterations = 1)\n",
        "plt.imshow(img_dilation2, cmap='gray')\n",
        "\n",
        "diff_img = 255 - cv2.absdiff(img_just_gray, img_dilation2)\n",
        "plt.imshow(diff_img, cmap='gray')\n",
        "\n",
        "# canny\n",
        "edgesToFindImage = img_dilation2\n",
        "\n",
        "v = np.median(img_just_gray)\n",
        "#print(v)\n",
        "sigma = 0.33\n",
        "lower_thresh = int(max(0,(1.0-sigma)*v))\n",
        "higher_thresh = int(min(255,(1.0+sigma)*v))\n",
        "\n",
        "img_edges =  cv2.Canny(edgesToFindImage, lower_thresh, higher_thresh)\n",
        "plt.imshow(img_edges, cmap='gray')\n",
        "\n",
        "kernel_dilation2 = np.ones((2,2),np.uint8)\n",
        "img_dilation2 = cv2.dilate(img_edges, kernel_dilation, iterations = 2)\n",
        "plt.imshow(img_dilation2, cmap='gray')\n",
        "\n",
        "# find contours\n",
        "contoursToFindImage = img_dilation2\n",
        "\n",
        "#(_, cnts, _) = cv2.findContours(contoursToFindImage.copy(), cv2.RETR_EXTERNAL,\n",
        "        #cv2.CHAIN_APPROX_SIMPLE)\n",
        "print(type(cnts))\n",
        "print(len(cnts))\n",
        "\n",
        "# -1 for all\n",
        "cntsWhichOne = -1 \n",
        "\n",
        "# -1 for infill\n",
        "# >0 for edge thickness\n",
        "cntsInfillOrEdgeThickness = 1 #thickness of defect outline\n",
        "\n",
        "img_drawing_contours_on_rgb_image = cv2.drawContours(img_rgb.copy(), cnts, cntsWhichOne, (0, 255, 0), cntsInfillOrEdgeThickness)\n",
        "plt.imshow(img_drawing_contours_on_rgb_image)"
      ],
      "metadata": {
        "colab": {
          "base_uri": "https://localhost:8080/",
          "height": 313
        },
        "id": "ktv8ytyYgfI2",
        "outputId": "af84cf12-c27c-4db0-f4eb-934230c5b678"
      },
      "execution_count": 109,
      "outputs": [
        {
          "output_type": "stream",
          "name": "stdout",
          "text": [
            "<class 'list'>\n",
            "27\n"
          ]
        },
        {
          "output_type": "execute_result",
          "data": {
            "text/plain": [
              "<matplotlib.image.AxesImage at 0x7fcd758f0190>"
            ]
          },
          "metadata": {},
          "execution_count": 109
        },
        {
          "output_type": "display_data",
          "data": {
            "text/plain": [
              "<Figure size 432x288 with 1 Axes>"
            ],
            "image/png": "[encoded data removed]"
          },
          "metadata": {
            "needs_background": "light"
          }
        }
      ]
    }
  ]
}